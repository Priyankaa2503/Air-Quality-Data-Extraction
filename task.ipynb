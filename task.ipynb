{
 "cells": [
  {
   "cell_type": "markdown",
   "metadata": {},
   "source": [
    "Importing libs"
   ]
  },
  {
   "cell_type": "code",
   "execution_count": 153,
   "metadata": {},
   "outputs": [],
   "source": [
    "import gpxpy\n",
    "import gpxpy.gpx\n",
    "import pandas as pd\n",
    "import pytz\n",
    "from pytz import all_timezones"
   ]
  },
  {
   "cell_type": "markdown",
   "metadata": {},
   "source": [
    "loading gpx file"
   ]
  },
  {
   "cell_type": "code",
   "execution_count": 154,
   "metadata": {},
   "outputs": [],
   "source": [
    "gpx_file = \"danielle GPX .GPX\"\n",
    "with open(gpx_file, \"r\") as file:\n",
    "    gpx = gpxpy.parse(file)"
   ]
  },
  {
   "cell_type": "code",
   "execution_count": 155,
   "metadata": {},
   "outputs": [
    {
     "data": {
      "text/plain": [
       "GPX(tracks=[GPXTrack(segments=[GPXTrackSegment(points=[...])])])"
      ]
     },
     "execution_count": 155,
     "metadata": {},
     "output_type": "execute_result"
    }
   ],
   "source": [
    "gpx"
   ]
  },
  {
   "cell_type": "code",
   "execution_count": 156,
   "metadata": {},
   "outputs": [
    {
     "data": {
      "text/plain": [
       "[GPXTrackPoint(34.021526, -118.288752, elevation=90.12919518072158),\n",
       " GPXTrackPoint(34.021566, -118.28889, elevation=91.4642141405493),\n",
       " GPXTrackPoint(34.02147, -118.288567, elevation=92.40057468786836),\n",
       " GPXTrackPoint(34.021553, -118.288315, elevation=91.63135995343328),\n",
       " GPXTrackPoint(34.021452, -118.288464, elevation=91.29162885062397),\n",
       " GPXTrackPoint(34.021578, -118.288401, elevation=91.90533726289868),\n",
       " GPXTrackPoint(34.021503, -118.288488, elevation=91.72100736759603),\n",
       " GPXTrackPoint(34.021594, -118.288463, elevation=91.78886562027037),\n",
       " GPXTrackPoint(34.02156, -118.288531, elevation=93.04319773428142),\n",
       " GPXTrackPoint(34.021578, -118.288662, elevation=93.90022918581963)]"
      ]
     },
     "execution_count": 156,
     "metadata": {},
     "output_type": "execute_result"
    }
   ],
   "source": [
    "gpx.tracks[0].segments[0].points[:10]"
   ]
  },
  {
   "cell_type": "code",
   "execution_count": 157,
   "metadata": {},
   "outputs": [],
   "source": [
    "import xml.etree.ElementTree as ET\n",
    "import csv\n",
    "from datetime import datetime\n",
    "\n",
    "\n",
    "# Function to parse custom time format\n",
    "def parse_custom_time(time_str):\n",
    "    dt = datetime.strptime(time_str, \"%m/%d/%Y, %I:%M:%S %p\")\n",
    "    return dt.strftime(\"%Y-%m-%d\"), dt.strftime(\"%H:%M:%S\")"
   ]
  },
  {
   "cell_type": "markdown",
   "metadata": {},
   "source": [
    "Data Extraction from gpx"
   ]
  },
  {
   "cell_type": "code",
   "execution_count": 158,
   "metadata": {},
   "outputs": [],
   "source": [
    "gpx_file_path = \"danielle GPX .GPX\"\n",
    "tree = ET.parse(gpx_file_path)\n",
    "root = tree.getroot()\n",
    "\n",
    "# Define the namespaces\n",
    "namespaces = {\"default\": \"http://www.topografix.com/GPX/1/1\"}\n",
    "\n",
    "# Extract data from GPX\n",
    "data = []\n",
    "for trkpt in root.findall(\".//default:trkpt\", namespaces):\n",
    "    lat = trkpt.get(\"lat\")\n",
    "    lon = trkpt.get(\"lon\")\n",
    "    ele = trkpt.find(\"default:ele\", namespaces).text\n",
    "    time = trkpt.find(\"default:time\", namespaces).text\n",
    "    date, time = parse_custom_time(time)  # Convert time to custom format\n",
    "    data.append(\n",
    "        {\n",
    "            \"latitude\": lat,\n",
    "            \"longitude\": lon,\n",
    "            \"altitude (m)\": ele,\n",
    "            \"date\": date,\n",
    "            \"time\": time,\n",
    "        }\n",
    "    )"
   ]
  },
  {
   "cell_type": "code",
   "execution_count": 159,
   "metadata": {},
   "outputs": [
    {
     "data": {
      "text/plain": [
       "[{'latitude': '34.021526',\n",
       "  'longitude': '-118.288752',\n",
       "  'altitude (m)': '90.12919518072158',\n",
       "  'date': '2024-04-16',\n",
       "  'time': '15:55:47'},\n",
       " {'latitude': '34.021566',\n",
       "  'longitude': '-118.288890',\n",
       "  'altitude (m)': '91.4642141405493',\n",
       "  'date': '2024-04-16',\n",
       "  'time': '15:55:50'}]"
      ]
     },
     "execution_count": 159,
     "metadata": {},
     "output_type": "execute_result"
    }
   ],
   "source": [
    "data[:2]"
   ]
  },
  {
   "cell_type": "code",
   "execution_count": 160,
   "metadata": {},
   "outputs": [
    {
     "data": {
      "text/html": [
       "<div>\n",
       "<style scoped>\n",
       "    .dataframe tbody tr th:only-of-type {\n",
       "        vertical-align: middle;\n",
       "    }\n",
       "\n",
       "    .dataframe tbody tr th {\n",
       "        vertical-align: top;\n",
       "    }\n",
       "\n",
       "    .dataframe thead th {\n",
       "        text-align: right;\n",
       "    }\n",
       "</style>\n",
       "<table border=\"1\" class=\"dataframe\">\n",
       "  <thead>\n",
       "    <tr style=\"text-align: right;\">\n",
       "      <th></th>\n",
       "      <th>latitude</th>\n",
       "      <th>longitude</th>\n",
       "      <th>altitude (m)</th>\n",
       "      <th>date</th>\n",
       "      <th>time</th>\n",
       "    </tr>\n",
       "  </thead>\n",
       "  <tbody>\n",
       "    <tr>\n",
       "      <th>0</th>\n",
       "      <td>34.021526</td>\n",
       "      <td>-118.288752</td>\n",
       "      <td>90.12919518072158</td>\n",
       "      <td>2024-04-16</td>\n",
       "      <td>15:55:47</td>\n",
       "    </tr>\n",
       "    <tr>\n",
       "      <th>1</th>\n",
       "      <td>34.021566</td>\n",
       "      <td>-118.288890</td>\n",
       "      <td>91.4642141405493</td>\n",
       "      <td>2024-04-16</td>\n",
       "      <td>15:55:50</td>\n",
       "    </tr>\n",
       "    <tr>\n",
       "      <th>2</th>\n",
       "      <td>34.021470</td>\n",
       "      <td>-118.288567</td>\n",
       "      <td>92.40057468786836</td>\n",
       "      <td>2024-04-16</td>\n",
       "      <td>15:55:54</td>\n",
       "    </tr>\n",
       "    <tr>\n",
       "      <th>3</th>\n",
       "      <td>34.021553</td>\n",
       "      <td>-118.288315</td>\n",
       "      <td>91.63135995343328</td>\n",
       "      <td>2024-04-16</td>\n",
       "      <td>15:56:01</td>\n",
       "    </tr>\n",
       "    <tr>\n",
       "      <th>4</th>\n",
       "      <td>34.021452</td>\n",
       "      <td>-118.288464</td>\n",
       "      <td>91.29162885062397</td>\n",
       "      <td>2024-04-16</td>\n",
       "      <td>15:56:26</td>\n",
       "    </tr>\n",
       "  </tbody>\n",
       "</table>\n",
       "</div>"
      ],
      "text/plain": [
       "    latitude    longitude       altitude (m)        date      time\n",
       "0  34.021526  -118.288752  90.12919518072158  2024-04-16  15:55:47\n",
       "1  34.021566  -118.288890   91.4642141405493  2024-04-16  15:55:50\n",
       "2  34.021470  -118.288567  92.40057468786836  2024-04-16  15:55:54\n",
       "3  34.021553  -118.288315  91.63135995343328  2024-04-16  15:56:01\n",
       "4  34.021452  -118.288464  91.29162885062397  2024-04-16  15:56:26"
      ]
     },
     "execution_count": 160,
     "metadata": {},
     "output_type": "execute_result"
    }
   ],
   "source": [
    "gpx_data = pd.DataFrame(data)\n",
    "gpx_data.head()"
   ]
  },
  {
   "cell_type": "markdown",
   "metadata": {},
   "source": [
    "Import GPX Data to CSV"
   ]
  },
  {
   "cell_type": "code",
   "execution_count": 161,
   "metadata": {},
   "outputs": [],
   "source": [
    "gpx_data.to_csv(\"danielle.csv\", index=False)"
   ]
  },
  {
   "cell_type": "markdown",
   "metadata": {},
   "source": [
    "https://gist.github.com/pianosnake/b4a45ef6bgpx_data2ffb2e1b44bbcca107298"
   ]
  },
  {
   "cell_type": "code",
   "execution_count": 195,
   "metadata": {},
   "outputs": [],
   "source": [
    "import math\n",
    "\n",
    "EARTH_CIR_METERS = 40075016.686\n",
    "degreesPerMeter = 360 / EARTH_CIR_METERS\n",
    "\n",
    "\n",
    "def toRadians(degrees):\n",
    "    return degrees * math.pi / 180\n",
    "\n",
    "\n",
    "def latLngToBounds(lat, lng, zoom, width, height):\n",
    "    metersPerPixelEW = EARTH_CIR_METERS / math.pow(2, zoom + 8)\n",
    "    metersPerPixelNS = (\n",
    "        EARTH_CIR_METERS / math.pow(2, zoom + 8) * math.cos(toRadians(lat))\n",
    "    )\n",
    "\n",
    "    shiftMetersEW = width / 2 * metersPerPixelEW\n",
    "    shiftMetersNS = height / 2 * metersPerPixelNS\n",
    "\n",
    "    shiftDegreesEW = shiftMetersEW * degreesPerMeter\n",
    "    shiftDegreesNS = shiftMetersNS * degreesPerMeter\n",
    "\n",
    "    minX = lng - shiftDegreesEW\n",
    "    minY = lat - shiftDegreesNS\n",
    "    maxX = lng + shiftDegreesEW\n",
    "    maxY = lat + shiftDegreesNS\n",
    "\n",
    "    return f\"{minX:.4f},{minY:.6f},{maxX:.4f},{maxY:.6f}\""
   ]
  },
  {
   "cell_type": "code",
   "execution_count": 266,
   "metadata": {},
   "outputs": [],
   "source": [
    "# convert data to boundary box\n",
    "\n",
    "gpx_data[\"latitude\"] = gpx_data[\"latitude\"].astype(float)\n",
    "gpx_data[\"longitude\"] = gpx_data[\"longitude\"].astype(float)\n",
    "\n",
    "gpx_data[\"bbox\"] = gpx_data.apply(\n",
    "    lambda x: latLngToBounds(x[\"latitude\"], x[\"longitude\"], 12, 400, 400), axis=1\n",
    ")"
   ]
  },
  {
   "cell_type": "code",
   "execution_count": 267,
   "metadata": {},
   "outputs": [
    {
     "data": {
      "text/html": [
       "<div>\n",
       "<style scoped>\n",
       "    .dataframe tbody tr th:only-of-type {\n",
       "        vertical-align: middle;\n",
       "    }\n",
       "\n",
       "    .dataframe tbody tr th {\n",
       "        vertical-align: top;\n",
       "    }\n",
       "\n",
       "    .dataframe thead th {\n",
       "        text-align: right;\n",
       "    }\n",
       "</style>\n",
       "<table border=\"1\" class=\"dataframe\">\n",
       "  <thead>\n",
       "    <tr style=\"text-align: right;\">\n",
       "      <th></th>\n",
       "      <th>latitude</th>\n",
       "      <th>longitude</th>\n",
       "      <th>altitude (m)</th>\n",
       "      <th>date</th>\n",
       "      <th>time</th>\n",
       "      <th>bbox</th>\n",
       "    </tr>\n",
       "  </thead>\n",
       "  <tbody>\n",
       "    <tr>\n",
       "      <th>0</th>\n",
       "      <td>34.021526</td>\n",
       "      <td>-118.288752</td>\n",
       "      <td>90.12919518072158</td>\n",
       "      <td>2024-04-16</td>\n",
       "      <td>15:55:47</td>\n",
       "      <td>-118.3574,33.964615,-118.2201,34.078437</td>\n",
       "    </tr>\n",
       "    <tr>\n",
       "      <th>1</th>\n",
       "      <td>34.021566</td>\n",
       "      <td>-118.288890</td>\n",
       "      <td>91.4642141405493</td>\n",
       "      <td>2024-04-16</td>\n",
       "      <td>15:55:50</td>\n",
       "      <td>-118.3576,33.964655,-118.2202,34.078477</td>\n",
       "    </tr>\n",
       "    <tr>\n",
       "      <th>2</th>\n",
       "      <td>34.021470</td>\n",
       "      <td>-118.288567</td>\n",
       "      <td>92.40057468786836</td>\n",
       "      <td>2024-04-16</td>\n",
       "      <td>15:55:54</td>\n",
       "      <td>-118.3572,33.964559,-118.2199,34.078381</td>\n",
       "    </tr>\n",
       "    <tr>\n",
       "      <th>3</th>\n",
       "      <td>34.021553</td>\n",
       "      <td>-118.288315</td>\n",
       "      <td>91.63135995343328</td>\n",
       "      <td>2024-04-16</td>\n",
       "      <td>15:56:01</td>\n",
       "      <td>-118.3570,33.964642,-118.2197,34.078464</td>\n",
       "    </tr>\n",
       "    <tr>\n",
       "      <th>4</th>\n",
       "      <td>34.021452</td>\n",
       "      <td>-118.288464</td>\n",
       "      <td>91.29162885062397</td>\n",
       "      <td>2024-04-16</td>\n",
       "      <td>15:56:26</td>\n",
       "      <td>-118.3571,33.964541,-118.2198,34.078363</td>\n",
       "    </tr>\n",
       "  </tbody>\n",
       "</table>\n",
       "</div>"
      ],
      "text/plain": [
       "    latitude   longitude       altitude (m)        date      time  \\\n",
       "0  34.021526 -118.288752  90.12919518072158  2024-04-16  15:55:47   \n",
       "1  34.021566 -118.288890   91.4642141405493  2024-04-16  15:55:50   \n",
       "2  34.021470 -118.288567  92.40057468786836  2024-04-16  15:55:54   \n",
       "3  34.021553 -118.288315  91.63135995343328  2024-04-16  15:56:01   \n",
       "4  34.021452 -118.288464  91.29162885062397  2024-04-16  15:56:26   \n",
       "\n",
       "                                      bbox  \n",
       "0  -118.3574,33.964615,-118.2201,34.078437  \n",
       "1  -118.3576,33.964655,-118.2202,34.078477  \n",
       "2  -118.3572,33.964559,-118.2199,34.078381  \n",
       "3  -118.3570,33.964642,-118.2197,34.078464  \n",
       "4  -118.3571,33.964541,-118.2198,34.078363  "
      ]
     },
     "execution_count": 267,
     "metadata": {},
     "output_type": "execute_result"
    }
   ],
   "source": [
    "gpx_data.head()"
   ]
  },
  {
   "cell_type": "code",
   "execution_count": 293,
   "metadata": {},
   "outputs": [],
   "source": [
    "import requests\n",
    "import csv\n",
    "from io import StringIO\n",
    "\n",
    "\n",
    "def get_air_quality(gpx_data):\n",
    "    # Extract the hour from the time\n",
    "    hour = gpx_data[\"time\"].split(\":\")[0]\n",
    "    header_array = [\n",
    "        \"Latitude\",\n",
    "        \"Longitude\",\n",
    "        \"UTC\",\n",
    "        \"Parameter\",\n",
    "        \"Unit\",\n",
    "        \"AQI\",\n",
    "        \"Category\",\n",
    "    ]\n",
    "    # Construct the URL with the date, bbox, and time from gpx_data\n",
    "    url = f\"https://www.airnowapi.org/aq/data/?startDate={gpx_data['date']}T{hour}&endDate={gpx_data['date']}T{hour}&parameters=PM25,PM10&BBOX={gpx_data['bbox']}&dataType=A&format=text/csv&verbose=0&monitorType=0&includerawconcentrations=0&API_KEY=342FB14E-3637-470D-BEAE-A5DF1E193ADB\"\n",
    "    # url = f\"https://www.airnowapi.org/aq/data/?startDate=2024-06-21T17&endDate=2024-06-21T18&parameters=PM25,PM10&BBOX=-124.205070,28.716781,-75.337882,45.419415&dataType=A&format=text/csv&verbose=0&monitorType=0&includerawconcentrations=0&API_KEY=342FB14E-3637-470D-BEAE-A5DF1E193ADB\"\n",
    "    # print(url)\n",
    "    response = requests.get(url)\n",
    "    return response.text"
   ]
  },
  {
   "cell_type": "code",
   "execution_count": 295,
   "metadata": {},
   "outputs": [],
   "source": [
    "import pandas as pd\n",
    "from io import StringIO\n",
    "\n",
    "results = []\n",
    "for index, row in gpx_data.head(400).iterrows():\n",
    "    results.append(get_air_quality(row))\n",
    "\n",
    "# Join the results into a single string\n",
    "results_str = \"\\n\".join(results)\n",
    "\n",
    "data_io = StringIO(results_str)\n",
    "df_temp = pd.read_csv(data_io, header=None)\n",
    "\n",
    "# Set the column names\n",
    "df_temp.columns = [\n",
    "    \"Latitude\",\n",
    "    \"Longitude\",\n",
    "    \"UTC\",\n",
    "    \"Parameter\",\n",
    "    \"AQI\",\n",
    "    \"Category\",\n",
    "]\n",
    "\n",
    "# Append the data to the final dataframe\n",
    "\n",
    "df_temp.head()\n",
    "df_temp.to_csv(\"air_quality.csv\", index=False)"
   ]
  },
  {
   "cell_type": "code",
   "execution_count": 297,
   "metadata": {},
   "outputs": [],
   "source": [
    "# Continue processing rows 401 to 700\n",
    "for index, row in gpx_data.iloc[400:700].iterrows():\n",
    "    results.append(get_air_quality(row))\n",
    "\n",
    "# Join the results into a single string\n",
    "results_str = \"\\n\".join(results)\n",
    "\n",
    "data_io = StringIO(results_str)\n",
    "df_temp = pd.read_csv(data_io, header=None)\n",
    "\n",
    "# Set the column names\n",
    "df_temp.columns = [\n",
    "    \"Latitude\",\n",
    "    \"Longitude\",\n",
    "    \"UTC\",\n",
    "    \"Parameter\",\n",
    "    \"AQI\",\n",
    "    \"Category\",\n",
    "]\n",
    "\n",
    "# Append the data to the existing csv file\n",
    "with open(\"air_quality.csv\", \"a\") as f:\n",
    "    df_temp.to_csv(f, header=False, index=False)"
   ]
  },
  {
   "cell_type": "markdown",
   "metadata": {},
   "source": [
    "data extraction from survey data"
   ]
  },
  {
   "cell_type": "code",
   "execution_count": 165,
   "metadata": {},
   "outputs": [
    {
     "data": {
      "text/html": [
       "<div>\n",
       "<style scoped>\n",
       "    .dataframe tbody tr th:only-of-type {\n",
       "        vertical-align: middle;\n",
       "    }\n",
       "\n",
       "    .dataframe tbody tr th {\n",
       "        vertical-align: top;\n",
       "    }\n",
       "\n",
       "    .dataframe thead th {\n",
       "        text-align: right;\n",
       "    }\n",
       "</style>\n",
       "<table border=\"1\" class=\"dataframe\">\n",
       "  <thead>\n",
       "    <tr style=\"text-align: right;\">\n",
       "      <th></th>\n",
       "      <th>mbl_cod</th>\n",
       "      <th>rsp_id</th>\n",
       "      <th>instance_id</th>\n",
       "      <th>scheduled_start_local</th>\n",
       "      <th>timezone_offset</th>\n",
       "      <th>actual_start_local</th>\n",
       "      <th>HAPPY_JOYFUL_9376046</th>\n",
       "      <th>ENERGETIC_9376047</th>\n",
       "      <th>IRRITABLE_ANGRY_9376048</th>\n",
       "      <th>FRUSTRATED_9376049</th>\n",
       "      <th>...</th>\n",
       "      <th>RESPIRATION</th>\n",
       "      <th>BODY_BATTERY</th>\n",
       "      <th>STEPS</th>\n",
       "      <th>CALORIES</th>\n",
       "      <th>FLOORS</th>\n",
       "      <th>INTENSITY_MINUTES</th>\n",
       "      <th>LONGITUDE</th>\n",
       "      <th>LATITUDE</th>\n",
       "      <th>AVG_AMP</th>\n",
       "      <th>VOX_ACTV</th>\n",
       "    </tr>\n",
       "  </thead>\n",
       "  <tbody>\n",
       "    <tr>\n",
       "      <th>0</th>\n",
       "      <td>27181246</td>\n",
       "      <td>50695</td>\n",
       "      <td>1712628000</td>\n",
       "      <td>2024-04-08 19:00:00</td>\n",
       "      <td>-420</td>\n",
       "      <td>2024-04-08 19:10:26</td>\n",
       "      <td>7</td>\n",
       "      <td>6</td>\n",
       "      <td>5</td>\n",
       "      <td>4</td>\n",
       "      <td>...</td>\n",
       "      <td>0.0</td>\n",
       "      <td>0.0</td>\n",
       "      <td>0</td>\n",
       "      <td>0</td>\n",
       "      <td>0</td>\n",
       "      <td>0</td>\n",
       "      <td>0.000000</td>\n",
       "      <td>0.000000</td>\n",
       "      <td>0.0</td>\n",
       "      <td>0.0</td>\n",
       "    </tr>\n",
       "    <tr>\n",
       "      <th>1</th>\n",
       "      <td>27181246</td>\n",
       "      <td>50695</td>\n",
       "      <td>1712800800</td>\n",
       "      <td>2024-04-10 19:00:00</td>\n",
       "      <td>-420</td>\n",
       "      <td>2024-04-10 19:34:53</td>\n",
       "      <td>7</td>\n",
       "      <td>5</td>\n",
       "      <td>4</td>\n",
       "      <td>5</td>\n",
       "      <td>...</td>\n",
       "      <td>0.0</td>\n",
       "      <td>0.0</td>\n",
       "      <td>0</td>\n",
       "      <td>0</td>\n",
       "      <td>0</td>\n",
       "      <td>0</td>\n",
       "      <td>0.000000</td>\n",
       "      <td>0.000000</td>\n",
       "      <td>0.0</td>\n",
       "      <td>0.0</td>\n",
       "    </tr>\n",
       "    <tr>\n",
       "      <th>2</th>\n",
       "      <td>27181246</td>\n",
       "      <td>50695</td>\n",
       "      <td>1712887200</td>\n",
       "      <td>2024-04-11 19:00:00</td>\n",
       "      <td>-420</td>\n",
       "      <td>2024-04-11 19:00:08</td>\n",
       "      <td>7</td>\n",
       "      <td>6</td>\n",
       "      <td>4</td>\n",
       "      <td>4</td>\n",
       "      <td>...</td>\n",
       "      <td>0.0</td>\n",
       "      <td>0.0</td>\n",
       "      <td>0</td>\n",
       "      <td>0</td>\n",
       "      <td>0</td>\n",
       "      <td>0</td>\n",
       "      <td>0.000000</td>\n",
       "      <td>0.000000</td>\n",
       "      <td>0.0</td>\n",
       "      <td>0.0</td>\n",
       "    </tr>\n",
       "    <tr>\n",
       "      <th>3</th>\n",
       "      <td>27181246</td>\n",
       "      <td>50695</td>\n",
       "      <td>1712973600</td>\n",
       "      <td>2024-04-12 19:00:00</td>\n",
       "      <td>-420</td>\n",
       "      <td>2024-04-12 19:30:07</td>\n",
       "      <td>7</td>\n",
       "      <td>7</td>\n",
       "      <td>7</td>\n",
       "      <td>7</td>\n",
       "      <td>...</td>\n",
       "      <td>0.0</td>\n",
       "      <td>0.0</td>\n",
       "      <td>0</td>\n",
       "      <td>0</td>\n",
       "      <td>0</td>\n",
       "      <td>0</td>\n",
       "      <td>34.025203</td>\n",
       "      <td>-118.279196</td>\n",
       "      <td>0.0</td>\n",
       "      <td>0.0</td>\n",
       "    </tr>\n",
       "    <tr>\n",
       "      <th>4</th>\n",
       "      <td>27181246</td>\n",
       "      <td>50695</td>\n",
       "      <td>1713060000</td>\n",
       "      <td>2024-04-13 19:00:00</td>\n",
       "      <td>-420</td>\n",
       "      <td>2024-04-13 19:04:30</td>\n",
       "      <td>7</td>\n",
       "      <td>5</td>\n",
       "      <td>4</td>\n",
       "      <td>4</td>\n",
       "      <td>...</td>\n",
       "      <td>0.0</td>\n",
       "      <td>0.0</td>\n",
       "      <td>0</td>\n",
       "      <td>0</td>\n",
       "      <td>0</td>\n",
       "      <td>0</td>\n",
       "      <td>32.706276</td>\n",
       "      <td>-117.157111</td>\n",
       "      <td>0.0</td>\n",
       "      <td>0.0</td>\n",
       "    </tr>\n",
       "  </tbody>\n",
       "</table>\n",
       "<p>5 rows × 107 columns</p>\n",
       "</div>"
      ],
      "text/plain": [
       "    mbl_cod  rsp_id  instance_id scheduled_start_local  timezone_offset  \\\n",
       "0  27181246   50695   1712628000   2024-04-08 19:00:00             -420   \n",
       "1  27181246   50695   1712800800   2024-04-10 19:00:00             -420   \n",
       "2  27181246   50695   1712887200   2024-04-11 19:00:00             -420   \n",
       "3  27181246   50695   1712973600   2024-04-12 19:00:00             -420   \n",
       "4  27181246   50695   1713060000   2024-04-13 19:00:00             -420   \n",
       "\n",
       "    actual_start_local  HAPPY_JOYFUL_9376046  ENERGETIC_9376047  \\\n",
       "0  2024-04-08 19:10:26                     7                  6   \n",
       "1  2024-04-10 19:34:53                     7                  5   \n",
       "2  2024-04-11 19:00:08                     7                  6   \n",
       "3  2024-04-12 19:30:07                     7                  7   \n",
       "4  2024-04-13 19:04:30                     7                  5   \n",
       "\n",
       "   IRRITABLE_ANGRY_9376048  FRUSTRATED_9376049  ...  RESPIRATION  \\\n",
       "0                        5                   4  ...          0.0   \n",
       "1                        4                   5  ...          0.0   \n",
       "2                        4                   4  ...          0.0   \n",
       "3                        7                   7  ...          0.0   \n",
       "4                        4                   4  ...          0.0   \n",
       "\n",
       "   BODY_BATTERY  STEPS  CALORIES  FLOORS  INTENSITY_MINUTES  LONGITUDE  \\\n",
       "0           0.0      0         0       0                  0   0.000000   \n",
       "1           0.0      0         0       0                  0   0.000000   \n",
       "2           0.0      0         0       0                  0   0.000000   \n",
       "3           0.0      0         0       0                  0  34.025203   \n",
       "4           0.0      0         0       0                  0  32.706276   \n",
       "\n",
       "     LATITUDE  AVG_AMP  VOX_ACTV  \n",
       "0    0.000000      0.0       0.0  \n",
       "1    0.000000      0.0       0.0  \n",
       "2    0.000000      0.0       0.0  \n",
       "3 -118.279196      0.0       0.0  \n",
       "4 -117.157111      0.0       0.0  \n",
       "\n",
       "[5 rows x 107 columns]"
      ]
     },
     "execution_count": 165,
     "metadata": {},
     "output_type": "execute_result"
    }
   ],
   "source": [
    "# extract data from survey data folder\n",
    "survey_data = pd.read_csv(\"SurveyData/Ping6.csv\")\n",
    "survey_data.head()"
   ]
  },
  {
   "cell_type": "code",
   "execution_count": 166,
   "metadata": {},
   "outputs": [
    {
     "data": {
      "text/html": [
       "<div>\n",
       "<style scoped>\n",
       "    .dataframe tbody tr th:only-of-type {\n",
       "        vertical-align: middle;\n",
       "    }\n",
       "\n",
       "    .dataframe tbody tr th {\n",
       "        vertical-align: top;\n",
       "    }\n",
       "\n",
       "    .dataframe thead th {\n",
       "        text-align: right;\n",
       "    }\n",
       "</style>\n",
       "<table border=\"1\" class=\"dataframe\">\n",
       "  <thead>\n",
       "    <tr style=\"text-align: right;\">\n",
       "      <th></th>\n",
       "      <th>latitude</th>\n",
       "      <th>longitude</th>\n",
       "      <th>altitude (m)</th>\n",
       "      <th>date</th>\n",
       "      <th>time</th>\n",
       "      <th>bbox</th>\n",
       "    </tr>\n",
       "  </thead>\n",
       "  <tbody>\n",
       "    <tr>\n",
       "      <th>1726</th>\n",
       "      <td>34.025203</td>\n",
       "      <td>-118.279196</td>\n",
       "      <td>60.28713939525187</td>\n",
       "      <td>2024-04-17</td>\n",
       "      <td>20:04:33</td>\n",
       "      <td>-118.29636213769531,34.01097585069514,-118.262...</td>\n",
       "    </tr>\n",
       "  </tbody>\n",
       "</table>\n",
       "</div>"
      ],
      "text/plain": [
       "       latitude   longitude       altitude (m)        date      time  \\\n",
       "1726  34.025203 -118.279196  60.28713939525187  2024-04-17  20:04:33   \n",
       "\n",
       "                                                   bbox  \n",
       "1726  -118.29636213769531,34.01097585069514,-118.262...  "
      ]
     },
     "execution_count": 166,
     "metadata": {},
     "output_type": "execute_result"
    }
   ],
   "source": [
    "filtered_rows = gpx_data.loc[\n",
    "    (gpx_data[\"latitude\"] == 34.025203) & (gpx_data[\"longitude\"] == -118.279196)\n",
    "]\n",
    "filtered_rows"
   ]
  },
  {
   "cell_type": "code",
   "execution_count": 167,
   "metadata": {},
   "outputs": [
    {
     "data": {
      "text/plain": [
       "mbl_cod                             27181246\n",
       "rsp_id                                 50695\n",
       "instance_id                       1712973600\n",
       "scheduled_start_local    2024-04-12 19:00:00\n",
       "timezone_offset                         -420\n",
       "                                ...         \n",
       "INTENSITY_MINUTES                          0\n",
       "LONGITUDE                          34.025203\n",
       "LATITUDE                         -118.279196\n",
       "AVG_AMP                                  0.0\n",
       "VOX_ACTV                                 0.0\n",
       "Name: 3, Length: 107, dtype: object"
      ]
     },
     "execution_count": 167,
     "metadata": {},
     "output_type": "execute_result"
    }
   ],
   "source": [
    "# Ping6.csv from survey data i want to print 3 rd row\n",
    "survey_data.iloc[3]"
   ]
  },
  {
   "cell_type": "code",
   "execution_count": 181,
   "metadata": {},
   "outputs": [
    {
     "name": "stdout",
     "output_type": "stream",
     "text": [
      "mbl_cod                             27181246\n",
      "rsp_id                                 50695\n",
      "instance_id                       1712973600\n",
      "scheduled_start_local    2024-04-12 19:00:00\n",
      "timezone_offset                         -420\n",
      "                                ...         \n",
      "INTENSITY_MINUTES                          0\n",
      "LONGITUDE                          34.025203\n",
      "LATITUDE                         -118.279196\n",
      "AVG_AMP                                  0.0\n",
      "VOX_ACTV                                 0.0\n",
      "Name: 3, Length: 107, dtype: object\n"
     ]
    }
   ],
   "source": [
    "for index, survey_row in survey_data.iterrows():\n",
    "    survey_lat = survey_row[\"LONGITUDE\"]\n",
    "    survey_long = survey_row[\"LATITUDE\"]\n",
    "\n",
    "    for index, gpx_row in gpx_data.iterrows():\n",
    "        gpx_lat = gpx_row[\"latitude\"]\n",
    "        gpx_long = gpx_row[\"longitude\"]\n",
    "\n",
    "        if survey_lat == gpx_lat and survey_long == gpx_long:\n",
    "            print(survey_row)"
   ]
  },
  {
   "cell_type": "code",
   "execution_count": null,
   "metadata": {},
   "outputs": [],
   "source": []
  }
 ],
 "metadata": {
  "kernelspec": {
   "display_name": "Python 3",
   "language": "python",
   "name": "python3"
  },
  "language_info": {
   "codemirror_mode": {
    "name": "ipython",
    "version": 3
   },
   "file_extension": ".py",
   "mimetype": "text/x-python",
   "name": "python",
   "nbconvert_exporter": "python",
   "pygments_lexer": "ipython3",
   "version": "3.11.5"
  }
 },
 "nbformat": 4,
 "nbformat_minor": 2
}
