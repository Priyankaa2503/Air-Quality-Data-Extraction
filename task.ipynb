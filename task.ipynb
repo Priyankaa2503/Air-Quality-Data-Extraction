{
 "cells": [
  {
   "cell_type": "markdown",
   "metadata": {},
   "source": [
    "Importing libs"
   ]
  },
  {
   "cell_type": "code",
   "execution_count": 2,
   "metadata": {},
   "outputs": [],
   "source": [
    "import gpxpy\n",
    "import gpxpy.gpx\n",
    "import pandas as pd\n",
    "import pytz\n",
    "from pytz import all_timezones"
   ]
  },
  {
   "cell_type": "markdown",
   "metadata": {},
   "source": [
    "loading gpx file"
   ]
  },
  {
   "cell_type": "code",
   "execution_count": 16,
   "metadata": {},
   "outputs": [],
   "source": [
    "gpx_file = \"danielle GPX .GPX\"\n",
    "with open(gpx_file, \"r\") as file:\n",
    "    gpx = gpxpy.parse(file)"
   ]
  },
  {
   "cell_type": "code",
   "execution_count": 17,
   "metadata": {},
   "outputs": [
    {
     "data": {
      "text/plain": [
       "GPX(tracks=[GPXTrack(segments=[GPXTrackSegment(points=[...])])])"
      ]
     },
     "execution_count": 17,
     "metadata": {},
     "output_type": "execute_result"
    }
   ],
   "source": [
    "gpx"
   ]
  },
  {
   "cell_type": "code",
   "execution_count": 18,
   "metadata": {},
   "outputs": [
    {
     "data": {
      "text/plain": [
       "[GPXTrackPoint(34.021526, -118.288752, elevation=90.12919518072158),\n",
       " GPXTrackPoint(34.021566, -118.28889, elevation=91.4642141405493),\n",
       " GPXTrackPoint(34.02147, -118.288567, elevation=92.40057468786836),\n",
       " GPXTrackPoint(34.021553, -118.288315, elevation=91.63135995343328),\n",
       " GPXTrackPoint(34.021452, -118.288464, elevation=91.29162885062397),\n",
       " GPXTrackPoint(34.021578, -118.288401, elevation=91.90533726289868),\n",
       " GPXTrackPoint(34.021503, -118.288488, elevation=91.72100736759603),\n",
       " GPXTrackPoint(34.021594, -118.288463, elevation=91.78886562027037),\n",
       " GPXTrackPoint(34.02156, -118.288531, elevation=93.04319773428142),\n",
       " GPXTrackPoint(34.021578, -118.288662, elevation=93.90022918581963)]"
      ]
     },
     "execution_count": 18,
     "metadata": {},
     "output_type": "execute_result"
    }
   ],
   "source": [
    "gpx.tracks[0].segments[0].points[:10]"
   ]
  },
  {
   "cell_type": "code",
   "execution_count": 38,
   "metadata": {},
   "outputs": [],
   "source": [
    "import xml.etree.ElementTree as ET\n",
    "import csv\n",
    "from datetime import datetime\n",
    "\n",
    "\n",
    "# Function to parse custom time format\n",
    "def parse_custom_time(time_str):\n",
    "    dt = datetime.strptime(time_str, \"%m/%d/%Y, %I:%M:%S %p\")\n",
    "    return dt.strftime(\"%Y-%m-%d\"), dt.strftime(\"%H:%M:%S\")"
   ]
  },
  {
   "cell_type": "markdown",
   "metadata": {},
   "source": [
    "Data Extraction"
   ]
  },
  {
   "cell_type": "code",
   "execution_count": 39,
   "metadata": {},
   "outputs": [],
   "source": [
    "gpx_file_path = \"danielle GPX .GPX\"\n",
    "tree = ET.parse(gpx_file_path)\n",
    "root = tree.getroot()\n",
    "\n",
    "# Define the namespaces\n",
    "namespaces = {\"default\": \"http://www.topografix.com/GPX/1/1\"}\n",
    "\n",
    "# Extract data from GPX\n",
    "data = []\n",
    "for trkpt in root.findall(\".//default:trkpt\", namespaces):\n",
    "    lat = trkpt.get(\"lat\")\n",
    "    lon = trkpt.get(\"lon\")\n",
    "    ele = trkpt.find(\"default:ele\", namespaces).text\n",
    "    time = trkpt.find(\"default:time\", namespaces).text\n",
    "    date, time = parse_custom_time(time)  # Convert time to custom format\n",
    "    data.append(\n",
    "        {\n",
    "            \"latitude\": lat,\n",
    "            \"longitude\": lon,\n",
    "            \"altitude (m)\": ele,\n",
    "            \"date\": date,\n",
    "            \"time\": time,\n",
    "        }\n",
    "    )"
   ]
  },
  {
   "cell_type": "code",
   "execution_count": 40,
   "metadata": {},
   "outputs": [
    {
     "data": {
      "text/plain": [
       "[{'latitude': '34.021526',\n",
       "  'longitude': '-118.288752',\n",
       "  'altitude (m)': '90.12919518072158',\n",
       "  'date': '2024-04-16',\n",
       "  'time': '15:55:47'},\n",
       " {'latitude': '34.021566',\n",
       "  'longitude': '-118.288890',\n",
       "  'altitude (m)': '91.4642141405493',\n",
       "  'date': '2024-04-16',\n",
       "  'time': '15:55:50'}]"
      ]
     },
     "execution_count": 40,
     "metadata": {},
     "output_type": "execute_result"
    }
   ],
   "source": [
    "data[:2]"
   ]
  },
  {
   "cell_type": "code",
   "execution_count": 41,
   "metadata": {},
   "outputs": [
    {
     "data": {
      "text/html": [
       "<div>\n",
       "<style scoped>\n",
       "    .dataframe tbody tr th:only-of-type {\n",
       "        vertical-align: middle;\n",
       "    }\n",
       "\n",
       "    .dataframe tbody tr th {\n",
       "        vertical-align: top;\n",
       "    }\n",
       "\n",
       "    .dataframe thead th {\n",
       "        text-align: right;\n",
       "    }\n",
       "</style>\n",
       "<table border=\"1\" class=\"dataframe\">\n",
       "  <thead>\n",
       "    <tr style=\"text-align: right;\">\n",
       "      <th></th>\n",
       "      <th>latitude</th>\n",
       "      <th>longitude</th>\n",
       "      <th>altitude (m)</th>\n",
       "      <th>date</th>\n",
       "      <th>time</th>\n",
       "    </tr>\n",
       "  </thead>\n",
       "  <tbody>\n",
       "    <tr>\n",
       "      <th>0</th>\n",
       "      <td>34.021526</td>\n",
       "      <td>-118.288752</td>\n",
       "      <td>90.12919518072158</td>\n",
       "      <td>2024-04-16</td>\n",
       "      <td>15:55:47</td>\n",
       "    </tr>\n",
       "    <tr>\n",
       "      <th>1</th>\n",
       "      <td>34.021566</td>\n",
       "      <td>-118.288890</td>\n",
       "      <td>91.4642141405493</td>\n",
       "      <td>2024-04-16</td>\n",
       "      <td>15:55:50</td>\n",
       "    </tr>\n",
       "    <tr>\n",
       "      <th>2</th>\n",
       "      <td>34.021470</td>\n",
       "      <td>-118.288567</td>\n",
       "      <td>92.40057468786836</td>\n",
       "      <td>2024-04-16</td>\n",
       "      <td>15:55:54</td>\n",
       "    </tr>\n",
       "    <tr>\n",
       "      <th>3</th>\n",
       "      <td>34.021553</td>\n",
       "      <td>-118.288315</td>\n",
       "      <td>91.63135995343328</td>\n",
       "      <td>2024-04-16</td>\n",
       "      <td>15:56:01</td>\n",
       "    </tr>\n",
       "    <tr>\n",
       "      <th>4</th>\n",
       "      <td>34.021452</td>\n",
       "      <td>-118.288464</td>\n",
       "      <td>91.29162885062397</td>\n",
       "      <td>2024-04-16</td>\n",
       "      <td>15:56:26</td>\n",
       "    </tr>\n",
       "  </tbody>\n",
       "</table>\n",
       "</div>"
      ],
      "text/plain": [
       "    latitude    longitude       altitude (m)        date      time\n",
       "0  34.021526  -118.288752  90.12919518072158  2024-04-16  15:55:47\n",
       "1  34.021566  -118.288890   91.4642141405493  2024-04-16  15:55:50\n",
       "2  34.021470  -118.288567  92.40057468786836  2024-04-16  15:55:54\n",
       "3  34.021553  -118.288315  91.63135995343328  2024-04-16  15:56:01\n",
       "4  34.021452  -118.288464  91.29162885062397  2024-04-16  15:56:26"
      ]
     },
     "execution_count": 41,
     "metadata": {},
     "output_type": "execute_result"
    }
   ],
   "source": [
    "df = pd.DataFrame(data)\n",
    "df.head()"
   ]
  },
  {
   "cell_type": "markdown",
   "metadata": {},
   "source": [
    "Import GPX Data to CSV"
   ]
  },
  {
   "cell_type": "code",
   "execution_count": 42,
   "metadata": {},
   "outputs": [],
   "source": [
    "df.to_csv(\"danielle.csv\", index=False)"
   ]
  }
 ],
 "metadata": {
  "kernelspec": {
   "display_name": "Python 3",
   "language": "python",
   "name": "python3"
  },
  "language_info": {
   "codemirror_mode": {
    "name": "ipython",
    "version": 3
   },
   "file_extension": ".py",
   "mimetype": "text/x-python",
   "name": "python",
   "nbconvert_exporter": "python",
   "pygments_lexer": "ipython3",
   "version": "3.11.5"
  }
 },
 "nbformat": 4,
 "nbformat_minor": 2
}
